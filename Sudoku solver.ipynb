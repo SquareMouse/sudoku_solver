{
 "cells": [
  {
   "cell_type": "code",
   "execution_count": 412,
   "metadata": {},
   "outputs": [],
   "source": [
    "import numpy as np\n",
    "class Cell:\n",
    "    def __init__(self, initial_value = False):\n",
    "        if not initial_value:\n",
    "            self.domain = set([1,2,3,4,5,6,7,8,9])\n",
    "        else:\n",
    "            assert initial_value in range(1,10)\n",
    "            self.domain = set([initial_value])\n",
    "            \n",
    "    def remove(self, item):\n",
    "        if item in self.domain:\n",
    "            self.domain.remove(item)\n",
    "            return True\n",
    "        else:\n",
    "            return False\n",
    "        \n",
    "    def get_known_cell_value(self):\n",
    "        assert len(self.domain) == 1\n",
    "        for elem in self.domain:\n",
    "            return elem\n",
    "    \n",
    "    def is_known(self):\n",
    "        return len(self.domain) == 1\n",
    "\n",
    "empty_cell = \".\"\n",
    "class Sudoku:\n",
    "    board = [[\"empty\" for _ in range(9)] for _ in range(9)]\n",
    "    known_indices = set([])\n",
    "    unknown_indices = set([])\n",
    "    def __init__(self, list_board):\n",
    "        #assume '.' denodes empty cells, '4' would be a valued cell\n",
    "        for row in range(9):\n",
    "            for col in range(9):\n",
    "                list_item = list_board[row][col]\n",
    "                if list_item == empty_cell:\n",
    "                    self.board[row][col] = Cell()\n",
    "                    self.unknown_indices.add((row, col))\n",
    "                else:\n",
    "                    self.board[row][col] = Cell(int(list_item))\n",
    "                    self.known_indices.add((row, col))\n",
    "                    \n",
    "    def get_cell(self, row, col):\n",
    "        return self.board[row][col]\n",
    "                    \n",
    "    def print_board(self):\n",
    "        for row in self.board:\n",
    "            buff = []\n",
    "            for cell in row:\n",
    "                if cell.is_known():\n",
    "                    buff.append(cell.get_known_cell_value())\n",
    "                else:\n",
    "                    buff.append(empty_cell)\n",
    "            print(*buff)\n",
    "    \n",
    "    def return_board(self):\n",
    "        board_list = []\n",
    "        for row in self.board:\n",
    "            buff = []\n",
    "            for cell in row:\n",
    "                if cell.is_known():\n",
    "                    buff.append(str(cell.get_known_cell_value()))\n",
    "                else:\n",
    "                    buff.append(empty_cell)\n",
    "            board_list.append(buff)\n",
    "        return board_list\n",
    "    \n",
    "    def row_indices(self, row, col):\n",
    "        return set([(row_i, col) for row_i in range(9) if row_i != row])\n",
    "    \n",
    "    def col_indices(self, row, col):\n",
    "        return set([(row, col_i) for col_i in range(9) if col_i != col])\n",
    "        \n",
    "    def sub_block_indices(self, row, col):\n",
    "        sub_row = row // 3\n",
    "        sub_col = col // 3\n",
    "        to_return = set([(3*sub_row + row_i, 3*sub_col + col_i) for row_i in range(3) for col_i in range(3)])\n",
    "        to_return.remove((row, col))\n",
    "        return to_return\n",
    "    \n",
    "    def get_constrained_indices(self, row, col):\n",
    "        return self.row_indices(row, col).union(self.col_indices(row, col)).union(self.sub_block_indices(row, col))\n",
    "    \n",
    "    def iterate_consistency(self):\n",
    "        removed_count = 0\n",
    "        now_known_indices = set([])\n",
    "        for known_index in self.known_indices:\n",
    "            cell = self.get_cell(*known_index)\n",
    "            cell_value = cell.get_known_cell_value()\n",
    "            for constrained_index in self.unknown_indices.intersection(self.get_constrained_indices(*known_index)):\n",
    "                constrained_cell = self.get_cell(*constrained_index)\n",
    "                if constrained_cell.remove(cell_value) == True:\n",
    "                    removed_count += 1\n",
    "                    if constrained_cell.is_known():\n",
    "                        self.unknown_indices.remove(constrained_index)\n",
    "                        now_known_indices.add(constrained_index)\n",
    "                        \n",
    "        self.known_indices = self.known_indices.union(now_known_indices)\n",
    "        self.unknown_indices.difference_update(now_known_indices)\n",
    "        return removed_count\n",
    "    \n",
    "    def iterate_arc_consistency(self):\n",
    "        '''ex: if unknown_cell is the only cell in its row that can be a 2, unknown cell must be a 2'''\n",
    "        now_known_indices = set([])\n",
    "        for unknown_index in self.unknown_indices:\n",
    "            unknown_cell = self.get_cell(*unknown_index)\n",
    "            \n",
    "            row_domain = set([])\n",
    "            for row_index in self.row_indices(*unknown_index):\n",
    "                row_domain = row_domain.union(self.get_cell(*row_index).domain)\n",
    "            if len(unknown_cell.domain.difference(row_domain)) == 1:\n",
    "                unknown_cell.domain = unknown_cell.domain.difference(row_domain)\n",
    "                now_known_indices.add(unknown_index)\n",
    "                continue\n",
    "                \n",
    "            col_domain = set([])\n",
    "            for col_index in self.col_indices(*unknown_index):\n",
    "                col_domain = col_domain.union(self.get_cell(*col_index).domain)\n",
    "            if len(unknown_cell.domain.difference(col_domain)) == 1:\n",
    "                unknown_cell.domain = unknown_cell.domain.difference(col_domain)\n",
    "                now_known_indices.add(unknown_index)\n",
    "                continue\n",
    "                \n",
    "            sub_block_domain = set([])\n",
    "            for sub_index in self.sub_block_indices(*unknown_index):\n",
    "                sub_block_domain = sub_block_domain.union(self.get_cell(*sub_index).domain)\n",
    "            if len(unknown_cell.domain.difference(sub_block_domain)) == 1:\n",
    "                unknown_cell.domain = unknown_cell.domain.difference(sub_block_domain)\n",
    "                now_known_indices.add(unknown_index)\n",
    "                continue\n",
    "        \n",
    "        self.known_indices = self.known_indices.union(now_known_indices)\n",
    "        self.unknown_indices.difference_update(now_known_indices)"
   ]
  },
  {
   "cell_type": "code",
   "execution_count": 413,
   "metadata": {},
   "outputs": [
    {
     "name": "stdout",
     "output_type": "stream",
     "text": [
      "Start\n",
      "5 3 . . 7 . . . .\n",
      "6 . . 1 9 5 . . .\n",
      ". 9 8 . . . . 6 .\n",
      "8 . . . 6 . . . 3\n",
      "4 . . 8 . 3 . . 1\n",
      "7 . . . 2 . . . 6\n",
      ". 6 . . . . 2 8 .\n",
      ". . . 4 1 9 . . 5\n",
      ". . . . 8 . . 7 9\n"
     ]
    }
   ],
   "source": [
    "test_input = [[\"5\",\"3\",\".\",\".\",\"7\",\".\",\".\",\".\",\".\"],[\"6\",\".\",\".\",\"1\",\"9\",\"5\",\".\",\".\",\".\"],[\".\",\"9\",\"8\",\".\",\".\",\".\",\".\",\"6\",\".\"],[\"8\",\".\",\".\",\".\",\"6\",\".\",\".\",\".\",\"3\"],[\"4\",\".\",\".\",\"8\",\".\",\"3\",\".\",\".\",\"1\"],[\"7\",\".\",\".\",\".\",\"2\",\".\",\".\",\".\",\"6\"],[\".\",\"6\",\".\",\".\",\".\",\".\",\"2\",\"8\",\".\"],[\".\",\".\",\".\",\"4\",\"1\",\"9\",\".\",\".\",\"5\"],[\".\",\".\",\".\",\".\",\"8\",\".\",\".\",\"7\",\"9\"]]\n",
    "test_input2 = [[\".\",\".\",\"9\",\"7\",\"4\",\"8\",\".\",\".\",\".\"],[\"7\",\".\",\".\",\".\",\".\",\".\",\".\",\".\",\".\"],[\".\",\"2\",\".\",\"1\",\".\",\"9\",\".\",\".\",\".\"],[\".\",\".\",\"7\",\".\",\".\",\".\",\"2\",\"4\",\".\"],[\".\",\"6\",\"4\",\".\",\"1\",\".\",\"5\",\"9\",\".\"],[\".\",\"9\",\"8\",\".\",\".\",\".\",\"3\",\".\",\".\"],[\".\",\".\",\".\",\"8\",\".\",\"3\",\".\",\"2\",\".\"],[\".\",\".\",\".\",\".\",\".\",\".\",\".\",\".\",\"6\"],[\".\",\".\",\".\",\"2\",\"7\",\"5\",\"9\",\".\",\".\"]]\n",
    "S = Sudoku(test_input)\n",
    "print(\"Start\")\n",
    "S.print_board()"
   ]
  },
  {
   "cell_type": "code",
   "execution_count": 414,
   "metadata": {
    "scrolled": false
   },
   "outputs": [
    {
     "name": "stdout",
     "output_type": "stream",
     "text": [
      "known: 30\n",
      "known: 48\n",
      "known: 76\n",
      "0.008753061294555664\n"
     ]
    }
   ],
   "source": [
    "import time\n",
    "start = time.time()\n",
    "while len(S.known_indices) < 81:\n",
    "    print(\"known:\", len(S.known_indices))\n",
    "#     print(np.array(S.return_board()))\n",
    "    S.iterate_consistency()\n",
    "    S.iterate_arc_consistency()\n",
    "print(time.time() - start)"
   ]
  },
  {
   "cell_type": "code",
   "execution_count": 374,
   "metadata": {},
   "outputs": [
    {
     "name": "stdout",
     "output_type": "stream",
     "text": [
      "{(1, 2), 3}\n",
      "{(1, 2), 1, 2, 3}\n"
     ]
    }
   ],
   "source": [
    "test = set([1,2,3])\n",
    "test.add(*[(1,2)])\n",
    "print(test.difference((1,2)))\n",
    "print(test)"
   ]
  },
  {
   "cell_type": "code",
   "execution_count": 375,
   "metadata": {},
   "outputs": [
    {
     "name": "stdout",
     "output_type": "stream",
     "text": [
      "set()\n"
     ]
    }
   ],
   "source": [
    "test = set([])\n",
    "test.union(set([4]))\n",
    "print(test)\n",
    "\n",
    "\n",
    "\n",
    "\n",
    "\n",
    "\n",
    "\n",
    "\n",
    "\n",
    "\n"
   ]
  },
  {
   "cell_type": "code",
   "execution_count": null,
   "metadata": {
    "collapsed": true
   },
   "outputs": [],
   "source": []
  }
 ],
 "metadata": {
  "kernelspec": {
   "display_name": "Python 3",
   "language": "python",
   "name": "python3"
  },
  "language_info": {
   "codemirror_mode": {
    "name": "ipython",
    "version": 3
   },
   "file_extension": ".py",
   "mimetype": "text/x-python",
   "name": "python",
   "nbconvert_exporter": "python",
   "pygments_lexer": "ipython3",
   "version": "3.6.1"
  }
 },
 "nbformat": 4,
 "nbformat_minor": 2
}
